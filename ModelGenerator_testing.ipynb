{
 "cells": [
  {
   "cell_type": "code",
   "execution_count": 262,
   "metadata": {},
   "outputs": [],
   "source": [
    "import sys\n",
    "sys.path.append('../')\n",
    "\n",
    "try:\n",
    "    from ..spn_simulator.components.spn import *\n",
    "    from ..spn_simulator.components.spn_visualization import *\n",
    "    from ..spn_simulator.components.spn_simulate import *\n",
    "    from ..spn_simulator.components.spn_io import *\n",
    "except:\n",
    "    from spn_simulator.components.spn import *\n",
    "    from spn_simulator.components.spn_visualization import *\n",
    "    from spn_simulator.components.spn_simulate import *\n",
    "    from spn_simulator.components.spn_io import *\n",
    "\n",
    "import pandas as pd\n",
    "import pm4py\n",
    "\n"
   ]
  },
  {
   "cell_type": "code",
   "execution_count": 263,
   "metadata": {},
   "outputs": [],
   "source": [
    "event_log = pd.read_csv ('raw_data/event_log.csv', sep=\";\", converters={\"order_id\":str})\n",
    "state_log = pd.read_csv ('raw_data/state_log.csv', sep=\";\")\n",
    "event_log['timestamp'] = event_log['timestamp'].str.replace('CET|CEST', '', regex=True)\n",
    "event_log['timestamp'] = pd.to_datetime(event_log['timestamp']).dt.tz_localize('Europe/Berlin')"
   ]
  },
  {
   "cell_type": "code",
   "execution_count": 264,
   "metadata": {},
   "outputs": [
    {
     "data": {
      "text/html": [
       "<div>\n",
       "<style scoped>\n",
       "    .dataframe tbody tr th:only-of-type {\n",
       "        vertical-align: middle;\n",
       "    }\n",
       "\n",
       "    .dataframe tbody tr th {\n",
       "        vertical-align: top;\n",
       "    }\n",
       "\n",
       "    .dataframe thead th {\n",
       "        text-align: right;\n",
       "    }\n",
       "</style>\n",
       "<table border=\"1\" class=\"dataframe\">\n",
       "  <thead>\n",
       "    <tr style=\"text-align: right;\">\n",
       "      <th></th>\n",
       "      <th>timestamp</th>\n",
       "      <th>order_id</th>\n",
       "      <th>resource</th>\n",
       "      <th>event</th>\n",
       "    </tr>\n",
       "  </thead>\n",
       "  <tbody>\n",
       "    <tr>\n",
       "      <th>0</th>\n",
       "      <td>2023-04-18 00:00:00+02:00</td>\n",
       "      <td>260</td>\n",
       "      <td>MES</td>\n",
       "      <td>new_order</td>\n",
       "    </tr>\n",
       "    <tr>\n",
       "      <th>1</th>\n",
       "      <td>2023-04-18 00:00:00+02:00</td>\n",
       "      <td>260</td>\n",
       "      <td>cell1</td>\n",
       "      <td>cell1_operation</td>\n",
       "    </tr>\n",
       "    <tr>\n",
       "      <th>2</th>\n",
       "      <td>2023-04-18 00:00:01+02:00</td>\n",
       "      <td>260</td>\n",
       "      <td>cell2</td>\n",
       "      <td>cell2_operation</td>\n",
       "    </tr>\n",
       "    <tr>\n",
       "      <th>3</th>\n",
       "      <td>2023-04-18 00:00:01+02:00</td>\n",
       "      <td>261</td>\n",
       "      <td>MES</td>\n",
       "      <td>new_order</td>\n",
       "    </tr>\n",
       "    <tr>\n",
       "      <th>4</th>\n",
       "      <td>2023-04-18 00:00:01+02:00</td>\n",
       "      <td>261</td>\n",
       "      <td>cell1</td>\n",
       "      <td>cell1_operation</td>\n",
       "    </tr>\n",
       "  </tbody>\n",
       "</table>\n",
       "</div>"
      ],
      "text/plain": [
       "                  timestamp order_id resource            event\n",
       "0 2023-04-18 00:00:00+02:00      260      MES        new_order\n",
       "1 2023-04-18 00:00:00+02:00      260    cell1  cell1_operation\n",
       "2 2023-04-18 00:00:01+02:00      260    cell2  cell2_operation\n",
       "3 2023-04-18 00:00:01+02:00      261      MES        new_order\n",
       "4 2023-04-18 00:00:01+02:00      261    cell1  cell1_operation"
      ]
     },
     "execution_count": 264,
     "metadata": {},
     "output_type": "execute_result"
    }
   ],
   "source": [
    "event_log.head()"
   ]
  },
  {
   "cell_type": "code",
   "execution_count": 265,
   "metadata": {},
   "outputs": [
    {
     "data": {
      "text/html": [
       "<div>\n",
       "<style scoped>\n",
       "    .dataframe tbody tr th:only-of-type {\n",
       "        vertical-align: middle;\n",
       "    }\n",
       "\n",
       "    .dataframe tbody tr th {\n",
       "        vertical-align: top;\n",
       "    }\n",
       "\n",
       "    .dataframe thead th {\n",
       "        text-align: right;\n",
       "    }\n",
       "</style>\n",
       "<table border=\"1\" class=\"dataframe\">\n",
       "  <thead>\n",
       "    <tr style=\"text-align: right;\">\n",
       "      <th></th>\n",
       "      <th>timestamp</th>\n",
       "      <th>resource</th>\n",
       "      <th>state</th>\n",
       "    </tr>\n",
       "  </thead>\n",
       "  <tbody>\n",
       "    <tr>\n",
       "      <th>0</th>\n",
       "      <td>Tue Apr 18 00:00:00 CEST 2023</td>\n",
       "      <td>cell1</td>\n",
       "      <td>busy</td>\n",
       "    </tr>\n",
       "    <tr>\n",
       "      <th>1</th>\n",
       "      <td>Tue Apr 18 00:00:01 CEST 2023</td>\n",
       "      <td>cell1</td>\n",
       "      <td>idle</td>\n",
       "    </tr>\n",
       "    <tr>\n",
       "      <th>2</th>\n",
       "      <td>Tue Apr 18 00:00:01 CEST 2023</td>\n",
       "      <td>cell2</td>\n",
       "      <td>busy</td>\n",
       "    </tr>\n",
       "    <tr>\n",
       "      <th>3</th>\n",
       "      <td>Tue Apr 18 00:00:01 CEST 2023</td>\n",
       "      <td>cell1</td>\n",
       "      <td>busy</td>\n",
       "    </tr>\n",
       "    <tr>\n",
       "      <th>4</th>\n",
       "      <td>Tue Apr 18 00:00:02 CEST 2023</td>\n",
       "      <td>cell2</td>\n",
       "      <td>idle</td>\n",
       "    </tr>\n",
       "  </tbody>\n",
       "</table>\n",
       "</div>"
      ],
      "text/plain": [
       "                       timestamp resource state\n",
       "0  Tue Apr 18 00:00:00 CEST 2023    cell1  busy\n",
       "1  Tue Apr 18 00:00:01 CEST 2023    cell1  idle\n",
       "2  Tue Apr 18 00:00:01 CEST 2023    cell2  busy\n",
       "3  Tue Apr 18 00:00:01 CEST 2023    cell1  busy\n",
       "4  Tue Apr 18 00:00:02 CEST 2023    cell2  idle"
      ]
     },
     "execution_count": 265,
     "metadata": {},
     "output_type": "execute_result"
    }
   ],
   "source": [
    "state_log.head()"
   ]
  },
  {
   "cell_type": "code",
   "execution_count": 266,
   "metadata": {},
   "outputs": [],
   "source": [
    "net, im, fm = pm4py.discover_petri_net_alpha(event_log, activity_key='event', case_id_key='order_id', timestamp_key='timestamp')"
   ]
  },
  {
   "cell_type": "code",
   "execution_count": 267,
   "metadata": {},
   "outputs": [],
   "source": [
    "#net, im, fm = pm4py.discover_petri_net_inductive(event_log, activity_key='event', case_id_key='order_id', timestamp_key='timestamp', noise_threshold = 0.1)"
   ]
  },
  {
   "cell_type": "code",
   "execution_count": 268,
   "metadata": {},
   "outputs": [
    {
     "data": {
      "text/plain": [
       "places: [ ({'cell1_operation'}, {'cell2_operation'}), ({'cell2_operation'}, {'order_completed'}), ({'new_order'}, {'cell1_operation'}), end, start ]\n",
       "transitions: [ (cell1_operation, 'cell1_operation'), (cell2_operation, 'cell2_operation'), (new_order, 'new_order'), (order_completed, 'order_completed') ]\n",
       "arcs: [ (cell1_operation, 'cell1_operation')->({'cell1_operation'}, {'cell2_operation'}), (cell2_operation, 'cell2_operation')->({'cell2_operation'}, {'order_completed'}), (new_order, 'new_order')->({'new_order'}, {'cell1_operation'}), (order_completed, 'order_completed')->end, ({'cell1_operation'}, {'cell2_operation'})->(cell2_operation, 'cell2_operation'), ({'cell2_operation'}, {'order_completed'})->(order_completed, 'order_completed'), ({'new_order'}, {'cell1_operation'})->(cell1_operation, 'cell1_operation'), start->(new_order, 'new_order') ]"
      ]
     },
     "execution_count": 268,
     "metadata": {},
     "output_type": "execute_result"
    }
   ],
   "source": [
    "net"
   ]
  },
  {
   "cell_type": "code",
   "execution_count": 269,
   "metadata": {},
   "outputs": [
    {
     "data": {
      "image/png": "[encoded data removed]",
      "text/plain": [
       "<IPython.core.display.Image object>"
      ]
     },
     "metadata": {},
     "output_type": "display_data"
    }
   ],
   "source": [
    "pm4py.view_petri_net(net)"
   ]
  },
  {
   "cell_type": "code",
   "execution_count": 270,
   "metadata": {},
   "outputs": [
    {
     "name": "stdout",
     "output_type": "stream",
     "text": [
      "({'new_order'}, {'cell1_operation'})\n",
      "({'cell2_operation'}, {'order_completed'})\n",
      "({'cell1_operation'}, {'cell2_operation'})\n"
     ]
    },
    {
     "data": {
      "image/svg+xml": [
       "<?xml version=\"1.0\" encoding=\"UTF-8\" standalone=\"no\"?>\n",
       "<!DOCTYPE svg PUBLIC \"-//W3C//DTD SVG 1.1//EN\"\n",
       " \"http://www.w3.org/Graphics/SVG/1.1/DTD/svg11.dtd\">\n",
       "<!-- Generated by graphviz version 8.0.3 (20230416.2022)\n",
       " -->\n",
       "<!-- Pages: 1 -->\n",
       "<svg width=\"559pt\" height=\"81pt\"\n",
       " viewBox=\"0.00 0.00 559.00 81.00\" xmlns=\"http://www.w3.org/2000/svg\" xmlns:xlink=\"http://www.w3.org/1999/xlink\">\n",
       "<g id=\"graph0\" class=\"graph\" transform=\"scale(1 1) rotate(0) translate(4 77)\">\n",
       "<polygon fill=\"white\" stroke=\"none\" points=\"-4,4 -4,-77 555,-77 555,4 -4,4\"/>\n",
       "<!-- ({&#39;new_order&#39;}, {&#39;cell1_operation&#39;}) -->\n",
       "<g id=\"node1\" class=\"node\">\n",
       "<title>({&#39;new_order&#39;}, {&#39;cell1_operation&#39;})</title>\n",
       "<ellipse fill=\"none\" stroke=\"black\" cx=\"223.5\" cy=\"-36.5\" rx=\"21.5\" ry=\"21.5\"/>\n",
       "<text text-anchor=\"middle\" x=\"101\" y=\"-61.8\" font-family=\"Times New Roman,serif\" font-size=\"14.00\">({&#39;new_order&#39;}, {&#39;cell1_operation&#39;})</text>\n",
       "</g>\n",
       "<!-- ({&#39;cell2_operation&#39;}, {&#39;order_completed&#39;}) -->\n",
       "<g id=\"node2\" class=\"node\">\n",
       "<title>({&#39;cell2_operation&#39;}, {&#39;order_completed&#39;})</title>\n",
       "<ellipse fill=\"none\" stroke=\"black\" cx=\"284.5\" cy=\"-36.5\" rx=\"21.5\" ry=\"21.5\"/>\n",
       "<text text-anchor=\"middle\" x=\"144\" y=\"-3.8\" font-family=\"Times New Roman,serif\" font-size=\"14.00\">({&#39;cell2_operation&#39;}, {&#39;order_completed&#39;})</text>\n",
       "</g>\n",
       "<!-- ({&#39;cell1_operation&#39;}, {&#39;cell2_operation&#39;}) -->\n",
       "<g id=\"node3\" class=\"node\">\n",
       "<title>({&#39;cell1_operation&#39;}, {&#39;cell2_operation&#39;})</title>\n",
       "<ellipse fill=\"none\" stroke=\"black\" cx=\"345.5\" cy=\"-36.5\" rx=\"21.5\" ry=\"21.5\"/>\n",
       "<text text-anchor=\"middle\" x=\"437.5\" y=\"-61.8\" font-family=\"Times New Roman,serif\" font-size=\"14.00\">({&#39;cell1_operation&#39;}, {&#39;cell2_operation&#39;})</text>\n",
       "</g>\n",
       "</g>\n",
       "</svg>\n"
      ],
      "text/plain": [
       "<graphviz.graphs.Digraph at 0x1f55ab65dd0>"
      ]
     },
     "execution_count": 270,
     "metadata": {},
     "output_type": "execute_result"
    }
   ],
   "source": [
    "spn = SPN()\n",
    "\n",
    "for place in net.places:\n",
    "    if \"start\" not in str(place) and \"end\" not in str(place):\n",
    "        print(place)\n",
    "        new_place = Place(label=str(place), n_tokens=0)\n",
    "        spn.add_place(new_place)\n",
    "\n",
    "draw_spn(spn, show=False)"
   ]
  },
  {
   "cell_type": "code",
   "execution_count": 271,
   "metadata": {},
   "outputs": [
    {
     "name": "stdout",
     "output_type": "stream",
     "text": [
      "<spn_simulator.components.spn.Transition object at 0x000001F55AAAA610>\n",
      "<spn_simulator.components.spn.Transition object at 0x000001F55AB56A50>\n",
      "<spn_simulator.components.spn.Transition object at 0x000001F55AAAAE10>\n",
      "<spn_simulator.components.spn.Transition object at 0x000001F55A4C2810>\n"
     ]
    },
    {
     "data": {
      "image/svg+xml": [
       "<?xml version=\"1.0\" encoding=\"UTF-8\" standalone=\"no\"?>\n",
       "<!DOCTYPE svg PUBLIC \"-//W3C//DTD SVG 1.1//EN\"\n",
       " \"http://www.w3.org/Graphics/SVG/1.1/DTD/svg11.dtd\">\n",
       "<!-- Generated by graphviz version 8.0.3 (20230416.2022)\n",
       " -->\n",
       "<!-- Pages: 1 -->\n",
       "<svg width=\"619pt\" height=\"81pt\"\n",
       " viewBox=\"0.00 0.00 619.00 81.00\" xmlns=\"http://www.w3.org/2000/svg\" xmlns:xlink=\"http://www.w3.org/1999/xlink\">\n",
       "<g id=\"graph0\" class=\"graph\" transform=\"scale(1 1) rotate(0) translate(4 77)\">\n",
       "<polygon fill=\"white\" stroke=\"none\" points=\"-4,4 -4,-77 615,-77 615,4 -4,4\"/>\n",
       "<!-- ({&#39;new_order&#39;}, {&#39;cell1_operation&#39;}) -->\n",
       "<g id=\"node1\" class=\"node\">\n",
       "<title>({&#39;new_order&#39;}, {&#39;cell1_operation&#39;})</title>\n",
       "<ellipse fill=\"none\" stroke=\"black\" cx=\"223.5\" cy=\"-36.5\" rx=\"21.5\" ry=\"21.5\"/>\n",
       "<text text-anchor=\"middle\" x=\"101\" y=\"-61.8\" font-family=\"Times New Roman,serif\" font-size=\"14.00\">({&#39;new_order&#39;}, {&#39;cell1_operation&#39;})</text>\n",
       "</g>\n",
       "<!-- ({&#39;cell2_operation&#39;}, {&#39;order_completed&#39;}) -->\n",
       "<g id=\"node2\" class=\"node\">\n",
       "<title>({&#39;cell2_operation&#39;}, {&#39;order_completed&#39;})</title>\n",
       "<ellipse fill=\"none\" stroke=\"black\" cx=\"284.5\" cy=\"-36.5\" rx=\"21.5\" ry=\"21.5\"/>\n",
       "<text text-anchor=\"middle\" x=\"144\" y=\"-3.8\" font-family=\"Times New Roman,serif\" font-size=\"14.00\">({&#39;cell2_operation&#39;}, {&#39;order_completed&#39;})</text>\n",
       "</g>\n",
       "<!-- ({&#39;cell1_operation&#39;}, {&#39;cell2_operation&#39;}) -->\n",
       "<g id=\"node3\" class=\"node\">\n",
       "<title>({&#39;cell1_operation&#39;}, {&#39;cell2_operation&#39;})</title>\n",
       "<ellipse fill=\"none\" stroke=\"black\" cx=\"345.5\" cy=\"-36.5\" rx=\"21.5\" ry=\"21.5\"/>\n",
       "<text text-anchor=\"middle\" x=\"437.5\" y=\"-61.8\" font-family=\"Times New Roman,serif\" font-size=\"14.00\">({&#39;cell1_operation&#39;}, {&#39;cell2_operation&#39;})</text>\n",
       "</g>\n",
       "<!-- order_completed -->\n",
       "<g id=\"node4\" class=\"node\">\n",
       "<title>order_completed</title>\n",
       "<polygon fill=\"black\" stroke=\"black\" points=\"428,-43.5 385,-43.5 385,-29.5 428,-29.5 428,-43.5\"/>\n",
       "<text text-anchor=\"middle\" x=\"381.5\" y=\"-47.3\" font-family=\"Times New Roman,serif\" font-size=\"14.00\">0</text>\n",
       "</g>\n",
       "<!-- cell2_operation -->\n",
       "<g id=\"node5\" class=\"node\">\n",
       "<title>cell2_operation</title>\n",
       "<polygon fill=\"black\" stroke=\"black\" points=\"489,-43.5 446,-43.5 446,-29.5 489,-29.5 489,-43.5\"/>\n",
       "<text text-anchor=\"middle\" x=\"442.5\" y=\"-47.3\" font-family=\"Times New Roman,serif\" font-size=\"14.00\">0</text>\n",
       "</g>\n",
       "<!-- cell1_operation -->\n",
       "<g id=\"node6\" class=\"node\">\n",
       "<title>cell1_operation</title>\n",
       "<polygon fill=\"black\" stroke=\"black\" points=\"550,-43.5 507,-43.5 507,-29.5 550,-29.5 550,-43.5\"/>\n",
       "<text text-anchor=\"middle\" x=\"503.5\" y=\"-47.3\" font-family=\"Times New Roman,serif\" font-size=\"14.00\">0</text>\n",
       "</g>\n",
       "<!-- new_order -->\n",
       "<g id=\"node7\" class=\"node\">\n",
       "<title>new_order</title>\n",
       "<polygon fill=\"black\" stroke=\"black\" points=\"611,-43.5 568,-43.5 568,-29.5 611,-29.5 611,-43.5\"/>\n",
       "<text text-anchor=\"middle\" x=\"564.5\" y=\"-47.3\" font-family=\"Times New Roman,serif\" font-size=\"14.00\">0</text>\n",
       "</g>\n",
       "</g>\n",
       "</svg>\n"
      ],
      "text/plain": [
       "<graphviz.graphs.Digraph at 0x1f55aaa90d0>"
      ]
     },
     "execution_count": 271,
     "metadata": {},
     "output_type": "execute_result"
    }
   ],
   "source": [
    "for transition in net.transitions:\n",
    "    new_transition = Transition(label=str(transition),t_type=\"I\")\n",
    "    print(new_transition)\n",
    "    spn.add_transition(new_transition)\n",
    "\n",
    "draw_spn(spn, show=False)"
   ]
  },
  {
   "cell_type": "code",
   "execution_count": 261,
   "metadata": {},
   "outputs": [
    {
     "name": "stdout",
     "output_type": "stream",
     "text": [
      "start\n",
      "(order_completed, 'order_completed')\n",
      "(cell1_operation, 'cell1_operation')\n",
      "(cell2_operation, 'cell2_operation')\n",
      "({'cell1_operation'}, {'cell2_operation'})\n",
      "({'cell2_operation'}, {'order_completed'})\n",
      "(new_order, 'new_order')\n",
      "({'new_order'}, {'cell1_operation'})\n"
     ]
    }
   ],
   "source": [
    "for arc in net.arcs:\n",
    "    if arc.source is in \n",
    "    print(arc.source)"
   ]
  },
  {
   "cell_type": "code",
   "execution_count": 226,
   "metadata": {},
   "outputs": [
    {
     "data": {
      "text/plain": [
       "{(cell1_operation, 'cell1_operation'),\n",
       " (cell2_operation, 'cell2_operation'),\n",
       " (new_order, 'new_order'),\n",
       " (order_completed, 'order_completed')}"
      ]
     },
     "execution_count": 226,
     "metadata": {},
     "output_type": "execute_result"
    }
   ],
   "source": [
    "net.transitions"
   ]
  },
  {
   "cell_type": "code",
   "execution_count": 201,
   "metadata": {},
   "outputs": [
    {
     "data": {
      "text/plain": [
       "{({'cell1_operation'}, {'cell2_operation'}),\n",
       " ({'cell2_operation'}, {'order_completed'}),\n",
       " ({'new_order'}, {'cell1_operation'}),\n",
       " end,\n",
       " start}"
      ]
     },
     "execution_count": 201,
     "metadata": {},
     "output_type": "execute_result"
    }
   ],
   "source": [
    "net.places"
   ]
  },
  {
   "cell_type": "code",
   "execution_count": 237,
   "metadata": {},
   "outputs": [
    {
     "data": {
      "text/plain": [
       "({'cell2_operation'}, {'order_completed'})"
      ]
     },
     "execution_count": 237,
     "metadata": {},
     "output_type": "execute_result"
    }
   ],
   "source": [
    "list(net.arcs)[1].target"
   ]
  },
  {
   "cell_type": "code",
   "execution_count": 200,
   "metadata": {},
   "outputs": [
    {
     "name": "stdout",
     "output_type": "stream",
     "text": [
      "cell2_operation\n",
      "({'cell2_operation'}, {'order_completed'})\n",
      "cell1_operation\n",
      "({'cell1_operation'}, {'cell2_operation'})\n",
      "({'cell1_operation'}, {'cell2_operation'})\n",
      "cell2_operation\n",
      "({'cell2_operation'}, {'order_completed'})\n",
      "order_completed\n",
      "new_order\n",
      "({'new_order'}, {'cell1_operation'})\n",
      "({'new_order'}, {'cell1_operation'})\n",
      "cell1_operation\n"
     ]
    }
   ],
   "source": [
    "for arc in net.arcs:\n",
    "    if str(arc.source) != \"start\" and str(arc.target) != \"end\":\n",
    "        print(arc.source.name)\n",
    "        print(arc.target.name)"
   ]
  }
 ],
 "metadata": {
  "kernelspec": {
   "display_name": "Python 3",
   "language": "python",
   "name": "python3"
  },
  "language_info": {
   "codemirror_mode": {
    "name": "ipython",
    "version": 3
   },
   "file_extension": ".py",
   "mimetype": "text/x-python",
   "name": "python",
   "nbconvert_exporter": "python",
   "pygments_lexer": "ipython3",
   "version": "3.11.2"
  },
  "orig_nbformat": 4,
  "vscode": {
   "interpreter": {
    "hash": "c795d63dc8cfb5de7bcd07d29b5ba58277844ae54d77b796ffde21eff2f01dd2"
   }
  }
 },
 "nbformat": 4,
 "nbformat_minor": 2
}
