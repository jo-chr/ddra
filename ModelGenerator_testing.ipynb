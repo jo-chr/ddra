{
 "cells": [
  {
   "cell_type": "code",
   "execution_count": 1,
   "metadata": {},
   "outputs": [],
   "source": [
    "import sys\n",
    "sys.path.append('../')\n",
    "\n",
    "try:\n",
    "    from ..spn_simulator.components.spn import *\n",
    "    from ..spn_simulator.components.spn_visualization import *\n",
    "    from ..spn_simulator.components.spn_simulate import *\n",
    "    from ..spn_simulator.components.spn_io import *\n",
    "except:\n",
    "    from spn_simulator.components.spn import *\n",
    "    from spn_simulator.components.spn_visualization import *\n",
    "    from spn_simulator.components.spn_simulate import *\n",
    "    from spn_simulator.components.spn_io import *\n",
    "\n",
    "import pandas as pd\n",
    "import pm4py"
   ]
  },
  {
   "cell_type": "code",
   "execution_count": 2,
   "metadata": {},
   "outputs": [],
   "source": [
    "event_log = pd.read_csv ('raw_data/event_log.csv', sep=\";\", converters={\"order_id\":str})\n",
    "state_log = pd.read_csv ('raw_data/state_log.csv', sep=\";\")\n",
    "event_log['timestamp'] = event_log['timestamp'].str.replace('CET|CEST', '', regex=True)\n",
    "event_log['timestamp'] = pd.to_datetime(event_log['timestamp']).dt.tz_localize('Europe/Berlin')"
   ]
  },
  {
   "cell_type": "code",
   "execution_count": 3,
   "metadata": {},
   "outputs": [],
   "source": [
    "#WSC22 Data (parallel line)\n",
    "#event_log = pd.read_csv ('raw_data/event_log_wsc22.csv', sep=\";\", converters={\"order_id\":str})\n",
    "#event_log['timestamp'] = event_log['timestamp'].str.replace('CET|CEST', '', regex=True)\n",
    "#event_log['timestamp'] = pd.to_datetime(event_log['timestamp']).dt.tz_localize('Europe/Berlin')"
   ]
  },
  {
   "cell_type": "code",
   "execution_count": 4,
   "metadata": {},
   "outputs": [
    {
     "data": {
      "text/html": [
       "<div>\n",
       "<style scoped>\n",
       "    .dataframe tbody tr th:only-of-type {\n",
       "        vertical-align: middle;\n",
       "    }\n",
       "\n",
       "    .dataframe tbody tr th {\n",
       "        vertical-align: top;\n",
       "    }\n",
       "\n",
       "    .dataframe thead th {\n",
       "        text-align: right;\n",
       "    }\n",
       "</style>\n",
       "<table border=\"1\" class=\"dataframe\">\n",
       "  <thead>\n",
       "    <tr style=\"text-align: right;\">\n",
       "      <th></th>\n",
       "      <th>timestamp</th>\n",
       "      <th>order_id</th>\n",
       "      <th>resource</th>\n",
       "      <th>event</th>\n",
       "    </tr>\n",
       "  </thead>\n",
       "  <tbody>\n",
       "    <tr>\n",
       "      <th>0</th>\n",
       "      <td>2023-04-18 00:00:00+02:00</td>\n",
       "      <td>260</td>\n",
       "      <td>MES</td>\n",
       "      <td>new_order</td>\n",
       "    </tr>\n",
       "    <tr>\n",
       "      <th>1</th>\n",
       "      <td>2023-04-18 00:00:00+02:00</td>\n",
       "      <td>260</td>\n",
       "      <td>cell1</td>\n",
       "      <td>cell1_operation</td>\n",
       "    </tr>\n",
       "    <tr>\n",
       "      <th>2</th>\n",
       "      <td>2023-04-18 00:00:01+02:00</td>\n",
       "      <td>260</td>\n",
       "      <td>cell2</td>\n",
       "      <td>cell2_operation</td>\n",
       "    </tr>\n",
       "    <tr>\n",
       "      <th>3</th>\n",
       "      <td>2023-04-18 00:00:01+02:00</td>\n",
       "      <td>261</td>\n",
       "      <td>MES</td>\n",
       "      <td>new_order</td>\n",
       "    </tr>\n",
       "    <tr>\n",
       "      <th>4</th>\n",
       "      <td>2023-04-18 00:00:01+02:00</td>\n",
       "      <td>261</td>\n",
       "      <td>cell1</td>\n",
       "      <td>cell1_operation</td>\n",
       "    </tr>\n",
       "  </tbody>\n",
       "</table>\n",
       "</div>"
      ],
      "text/plain": [
       "                  timestamp order_id resource            event\n",
       "0 2023-04-18 00:00:00+02:00      260      MES        new_order\n",
       "1 2023-04-18 00:00:00+02:00      260    cell1  cell1_operation\n",
       "2 2023-04-18 00:00:01+02:00      260    cell2  cell2_operation\n",
       "3 2023-04-18 00:00:01+02:00      261      MES        new_order\n",
       "4 2023-04-18 00:00:01+02:00      261    cell1  cell1_operation"
      ]
     },
     "execution_count": 4,
     "metadata": {},
     "output_type": "execute_result"
    }
   ],
   "source": [
    "event_log.head()"
   ]
  },
  {
   "cell_type": "code",
   "execution_count": 5,
   "metadata": {},
   "outputs": [
    {
     "data": {
      "text/html": [
       "<div>\n",
       "<style scoped>\n",
       "    .dataframe tbody tr th:only-of-type {\n",
       "        vertical-align: middle;\n",
       "    }\n",
       "\n",
       "    .dataframe tbody tr th {\n",
       "        vertical-align: top;\n",
       "    }\n",
       "\n",
       "    .dataframe thead th {\n",
       "        text-align: right;\n",
       "    }\n",
       "</style>\n",
       "<table border=\"1\" class=\"dataframe\">\n",
       "  <thead>\n",
       "    <tr style=\"text-align: right;\">\n",
       "      <th></th>\n",
       "      <th>timestamp</th>\n",
       "      <th>resource</th>\n",
       "      <th>state</th>\n",
       "    </tr>\n",
       "  </thead>\n",
       "  <tbody>\n",
       "    <tr>\n",
       "      <th>0</th>\n",
       "      <td>Tue Apr 18 00:00:00 CEST 2023</td>\n",
       "      <td>cell1</td>\n",
       "      <td>busy</td>\n",
       "    </tr>\n",
       "    <tr>\n",
       "      <th>1</th>\n",
       "      <td>Tue Apr 18 00:00:01 CEST 2023</td>\n",
       "      <td>cell1</td>\n",
       "      <td>idle</td>\n",
       "    </tr>\n",
       "    <tr>\n",
       "      <th>2</th>\n",
       "      <td>Tue Apr 18 00:00:01 CEST 2023</td>\n",
       "      <td>cell2</td>\n",
       "      <td>busy</td>\n",
       "    </tr>\n",
       "    <tr>\n",
       "      <th>3</th>\n",
       "      <td>Tue Apr 18 00:00:01 CEST 2023</td>\n",
       "      <td>cell1</td>\n",
       "      <td>busy</td>\n",
       "    </tr>\n",
       "    <tr>\n",
       "      <th>4</th>\n",
       "      <td>Tue Apr 18 00:00:02 CEST 2023</td>\n",
       "      <td>cell2</td>\n",
       "      <td>idle</td>\n",
       "    </tr>\n",
       "  </tbody>\n",
       "</table>\n",
       "</div>"
      ],
      "text/plain": [
       "                       timestamp resource state\n",
       "0  Tue Apr 18 00:00:00 CEST 2023    cell1  busy\n",
       "1  Tue Apr 18 00:00:01 CEST 2023    cell1  idle\n",
       "2  Tue Apr 18 00:00:01 CEST 2023    cell2  busy\n",
       "3  Tue Apr 18 00:00:01 CEST 2023    cell1  busy\n",
       "4  Tue Apr 18 00:00:02 CEST 2023    cell2  idle"
      ]
     },
     "execution_count": 5,
     "metadata": {},
     "output_type": "execute_result"
    }
   ],
   "source": [
    "state_log.head()"
   ]
  },
  {
   "cell_type": "code",
   "execution_count": 6,
   "metadata": {},
   "outputs": [],
   "source": [
    "net, im, fm = pm4py.discover_petri_net_alpha(event_log, activity_key='event', case_id_key='order_id', timestamp_key='timestamp')"
   ]
  },
  {
   "cell_type": "code",
   "execution_count": 7,
   "metadata": {},
   "outputs": [],
   "source": [
    "#net, im, fm = pm4py.discover_petri_net_inductive(event_log, activity_key='event', case_id_key='order_id', timestamp_key='timestamp', noise_threshold = 0.1)"
   ]
  },
  {
   "cell_type": "code",
   "execution_count": 8,
   "metadata": {},
   "outputs": [
    {
     "data": {
      "image/png": "[encoded data removed]",
      "text/plain": [
       "<IPython.core.display.Image object>"
      ]
     },
     "metadata": {},
     "output_type": "display_data"
    }
   ],
   "source": [
    "pm4py.view_petri_net(net)"
   ]
  },
  {
   "cell_type": "code",
   "execution_count": 9,
   "metadata": {},
   "outputs": [
    {
     "data": {
      "image/svg+xml": [
       "<?xml version=\"1.0\" encoding=\"UTF-8\" standalone=\"no\"?>\n",
       "<!DOCTYPE svg PUBLIC \"-//W3C//DTD SVG 1.1//EN\"\n",
       " \"http://www.w3.org/Graphics/SVG/1.1/DTD/svg11.dtd\">\n",
       "<!-- Generated by graphviz version 8.0.3 (20230416.2022)\n",
       " -->\n",
       "<!-- Pages: 1 -->\n",
       "<svg width=\"595pt\" height=\"81pt\"\n",
       " viewBox=\"0.00 0.00 595.00 81.00\" xmlns=\"http://www.w3.org/2000/svg\" xmlns:xlink=\"http://www.w3.org/1999/xlink\">\n",
       "<g id=\"graph0\" class=\"graph\" transform=\"scale(1 1) rotate(0) translate(4 77)\">\n",
       "<polygon fill=\"white\" stroke=\"none\" points=\"-4,4 -4,-77 591,-77 591,4 -4,4\"/>\n",
       "<!-- ({&#39;cell2_operation&#39;}, {&#39;order_completed&#39;}) -->\n",
       "<g id=\"node1\" class=\"node\">\n",
       "<title>({&#39;cell2_operation&#39;}, {&#39;order_completed&#39;})</title>\n",
       "<ellipse fill=\"none\" stroke=\"black\" cx=\"259.5\" cy=\"-36.5\" rx=\"21.5\" ry=\"21.5\"/>\n",
       "<text text-anchor=\"middle\" x=\"119\" y=\"-61.8\" font-family=\"Times New Roman,serif\" font-size=\"14.00\">({&#39;cell2_operation&#39;}, {&#39;order_completed&#39;})</text>\n",
       "</g>\n",
       "<!-- ({&#39;new_order&#39;}, {&#39;cell1_operation&#39;}) -->\n",
       "<g id=\"node2\" class=\"node\">\n",
       "<title>({&#39;new_order&#39;}, {&#39;cell1_operation&#39;})</title>\n",
       "<ellipse fill=\"none\" stroke=\"black\" cx=\"320.5\" cy=\"-36.5\" rx=\"21.5\" ry=\"21.5\"/>\n",
       "<text text-anchor=\"middle\" x=\"198\" y=\"-3.8\" font-family=\"Times New Roman,serif\" font-size=\"14.00\">({&#39;new_order&#39;}, {&#39;cell1_operation&#39;})</text>\n",
       "</g>\n",
       "<!-- ({&#39;cell1_operation&#39;}, {&#39;cell2_operation&#39;}) -->\n",
       "<g id=\"node3\" class=\"node\">\n",
       "<title>({&#39;cell1_operation&#39;}, {&#39;cell2_operation&#39;})</title>\n",
       "<ellipse fill=\"none\" stroke=\"black\" cx=\"381.5\" cy=\"-36.5\" rx=\"21.5\" ry=\"21.5\"/>\n",
       "<text text-anchor=\"middle\" x=\"473.5\" y=\"-61.8\" font-family=\"Times New Roman,serif\" font-size=\"14.00\">({&#39;cell1_operation&#39;}, {&#39;cell2_operation&#39;})</text>\n",
       "</g>\n",
       "</g>\n",
       "</svg>\n"
      ],
      "text/plain": [
       "<graphviz.graphs.Digraph at 0x20053075d90>"
      ]
     },
     "execution_count": 9,
     "metadata": {},
     "output_type": "execute_result"
    }
   ],
   "source": [
    "spn = SPN()\n",
    "\n",
    "for place in net.places:\n",
    "    if \"start\" not in str(place) and \"end\" not in str(place):\n",
    "        new_place = Place(label=str(place), n_tokens=0)\n",
    "        spn.add_place(new_place)\n",
    "\n",
    "draw_spn(spn, show=False)"
   ]
  },
  {
   "cell_type": "code",
   "execution_count": 10,
   "metadata": {},
   "outputs": [
    {
     "data": {
      "image/svg+xml": [
       "<?xml version=\"1.0\" encoding=\"UTF-8\" standalone=\"no\"?>\n",
       "<!DOCTYPE svg PUBLIC \"-//W3C//DTD SVG 1.1//EN\"\n",
       " \"http://www.w3.org/Graphics/SVG/1.1/DTD/svg11.dtd\">\n",
       "<!-- Generated by graphviz version 8.0.3 (20230416.2022)\n",
       " -->\n",
       "<!-- Pages: 1 -->\n",
       "<svg width=\"849pt\" height=\"82pt\"\n",
       " viewBox=\"0.00 0.00 849.00 82.00\" xmlns=\"http://www.w3.org/2000/svg\" xmlns:xlink=\"http://www.w3.org/1999/xlink\">\n",
       "<g id=\"graph0\" class=\"graph\" transform=\"scale(1 1) rotate(0) translate(4 78)\">\n",
       "<polygon fill=\"white\" stroke=\"none\" points=\"-4,4 -4,-78 845,-78 845,4 -4,4\"/>\n",
       "<!-- ({&#39;cell2_operation&#39;}, {&#39;order_completed&#39;}) -->\n",
       "<g id=\"node1\" class=\"node\">\n",
       "<title>({&#39;cell2_operation&#39;}, {&#39;order_completed&#39;})</title>\n",
       "<ellipse fill=\"none\" stroke=\"black\" cx=\"259.5\" cy=\"-37\" rx=\"21.5\" ry=\"21.5\"/>\n",
       "<text text-anchor=\"middle\" x=\"119\" y=\"-62.3\" font-family=\"Times New Roman,serif\" font-size=\"14.00\">({&#39;cell2_operation&#39;}, {&#39;order_completed&#39;})</text>\n",
       "</g>\n",
       "<!-- ({&#39;new_order&#39;}, {&#39;cell1_operation&#39;}) -->\n",
       "<g id=\"node2\" class=\"node\">\n",
       "<title>({&#39;new_order&#39;}, {&#39;cell1_operation&#39;})</title>\n",
       "<ellipse fill=\"none\" stroke=\"black\" cx=\"320.5\" cy=\"-37\" rx=\"21.5\" ry=\"21.5\"/>\n",
       "<text text-anchor=\"middle\" x=\"198\" y=\"-4.3\" font-family=\"Times New Roman,serif\" font-size=\"14.00\">({&#39;new_order&#39;}, {&#39;cell1_operation&#39;})</text>\n",
       "</g>\n",
       "<!-- ({&#39;cell1_operation&#39;}, {&#39;cell2_operation&#39;}) -->\n",
       "<g id=\"node3\" class=\"node\">\n",
       "<title>({&#39;cell1_operation&#39;}, {&#39;cell2_operation&#39;})</title>\n",
       "<ellipse fill=\"none\" stroke=\"black\" cx=\"381.5\" cy=\"-37\" rx=\"21.5\" ry=\"21.5\"/>\n",
       "<text text-anchor=\"middle\" x=\"473.5\" y=\"-62.3\" font-family=\"Times New Roman,serif\" font-size=\"14.00\">({&#39;cell1_operation&#39;}, {&#39;cell2_operation&#39;})</text>\n",
       "</g>\n",
       "<!-- (cell1_operation, &#39;cell1_operation&#39;) -->\n",
       "<g id=\"node4\" class=\"node\">\n",
       "<title>(cell1_operation, &#39;cell1_operation&#39;)</title>\n",
       "<polygon fill=\"black\" stroke=\"black\" points=\"464,-44 421,-44 421,-30 464,-30 464,-44\"/>\n",
       "<text text-anchor=\"middle\" x=\"518\" y=\"-18.8\" font-family=\"Times New Roman,serif\" font-size=\"14.00\">(cell1_operation, &#39;cell1_operation&#39;)</text>\n",
       "<text text-anchor=\"middle\" x=\"518\" y=\"-3.8\" font-family=\"Times New Roman,serif\" font-size=\"14.00\">1</text>\n",
       "</g>\n",
       "<!-- (new_order, &#39;new_order&#39;) -->\n",
       "<g id=\"node5\" class=\"node\">\n",
       "<title>(new_order, &#39;new_order&#39;)</title>\n",
       "<polygon fill=\"black\" stroke=\"black\" points=\"525,-44 482,-44 482,-30 525,-30 525,-44\"/>\n",
       "<text text-anchor=\"middle\" x=\"596.5\" y=\"-62.8\" font-family=\"Times New Roman,serif\" font-size=\"14.00\">(new_order, &#39;new_order&#39;)</text>\n",
       "<text text-anchor=\"middle\" x=\"596.5\" y=\"-47.8\" font-family=\"Times New Roman,serif\" font-size=\"14.00\">1</text>\n",
       "</g>\n",
       "<!-- (order_completed, &#39;order_completed&#39;) -->\n",
       "<g id=\"node6\" class=\"node\">\n",
       "<title>(order_completed, &#39;order_completed&#39;)</title>\n",
       "<polygon fill=\"black\" stroke=\"black\" points=\"586,-44 543,-44 543,-30 586,-30 586,-44\"/>\n",
       "<text text-anchor=\"middle\" x=\"693.5\" y=\"-18.8\" font-family=\"Times New Roman,serif\" font-size=\"14.00\">(order_completed, &#39;order_completed&#39;)</text>\n",
       "<text text-anchor=\"middle\" x=\"693.5\" y=\"-3.8\" font-family=\"Times New Roman,serif\" font-size=\"14.00\">1</text>\n",
       "</g>\n",
       "<!-- (cell2_operation, &#39;cell2_operation&#39;) -->\n",
       "<g id=\"node7\" class=\"node\">\n",
       "<title>(cell2_operation, &#39;cell2_operation&#39;)</title>\n",
       "<polygon fill=\"black\" stroke=\"black\" points=\"647,-44 604,-44 604,-30 647,-30 647,-44\"/>\n",
       "<text text-anchor=\"middle\" x=\"744\" y=\"-48.8\" font-family=\"Times New Roman,serif\" font-size=\"14.00\">(cell2_operation, &#39;cell2_operation&#39;)</text>\n",
       "<text text-anchor=\"middle\" x=\"744\" y=\"-33.8\" font-family=\"Times New Roman,serif\" font-size=\"14.00\">1</text>\n",
       "</g>\n",
       "</g>\n",
       "</svg>\n"
      ],
      "text/plain": [
       "<graphviz.graphs.Digraph at 0x20053061c50>"
      ]
     },
     "execution_count": 10,
     "metadata": {},
     "output_type": "execute_result"
    }
   ],
   "source": [
    "for transition in net.transitions:\n",
    "    new_transition = Transition(label=str(transition),t_type=\"I\")\n",
    "    spn.add_transition(new_transition)\n",
    "\n",
    "draw_spn(spn, show=False)"
   ]
  },
  {
   "cell_type": "code",
   "execution_count": 11,
   "metadata": {},
   "outputs": [
    {
     "data": {
      "image/svg+xml": [
       "<?xml version=\"1.0\" encoding=\"UTF-8\" standalone=\"no\"?>\n",
       "<!DOCTYPE svg PUBLIC \"-//W3C//DTD SVG 1.1//EN\"\n",
       " \"http://www.w3.org/Graphics/SVG/1.1/DTD/svg11.dtd\">\n",
       "<!-- Generated by graphviz version 8.0.3 (20230416.2022)\n",
       " -->\n",
       "<!-- Pages: 1 -->\n",
       "<svg width=\"289pt\" height=\"439pt\"\n",
       " viewBox=\"0.00 0.00 289.00 439.00\" xmlns=\"http://www.w3.org/2000/svg\" xmlns:xlink=\"http://www.w3.org/1999/xlink\">\n",
       "<g id=\"graph0\" class=\"graph\" transform=\"scale(1 1) rotate(0) translate(4 435)\">\n",
       "<polygon fill=\"white\" stroke=\"none\" points=\"-4,4 -4,-435 285,-435 285,4 -4,4\"/>\n",
       "<!-- ({&#39;cell2_operation&#39;}, {&#39;order_completed&#39;}) -->\n",
       "<g id=\"node1\" class=\"node\">\n",
       "<title>({&#39;cell2_operation&#39;}, {&#39;order_completed&#39;})</title>\n",
       "<ellipse fill=\"none\" stroke=\"black\" cx=\"259.5\" cy=\"-71.5\" rx=\"21.5\" ry=\"21.5\"/>\n",
       "<text text-anchor=\"middle\" x=\"119\" y=\"-96.8\" font-family=\"Times New Roman,serif\" font-size=\"14.00\">({&#39;cell2_operation&#39;}, {&#39;order_completed&#39;})</text>\n",
       "</g>\n",
       "<!-- (order_completed, &#39;order_completed&#39;) -->\n",
       "<g id=\"node6\" class=\"node\">\n",
       "<title>(order_completed, &#39;order_completed&#39;)</title>\n",
       "<polygon fill=\"black\" stroke=\"black\" points=\"281,-14 238,-14 238,0 281,0 281,-14\"/>\n",
       "<text text-anchor=\"middle\" x=\"130.5\" y=\"-32.8\" font-family=\"Times New Roman,serif\" font-size=\"14.00\">(order_completed, &#39;order_completed&#39;)</text>\n",
       "<text text-anchor=\"middle\" x=\"130.5\" y=\"-17.8\" font-family=\"Times New Roman,serif\" font-size=\"14.00\">1</text>\n",
       "</g>\n",
       "<!-- ({&#39;cell2_operation&#39;}, {&#39;order_completed&#39;})&#45;&gt;(order_completed, &#39;order_completed&#39;) -->\n",
       "<g id=\"edge4\" class=\"edge\">\n",
       "<title>({&#39;cell2_operation&#39;}, {&#39;order_completed&#39;})&#45;&gt;(order_completed, &#39;order_completed&#39;)</title>\n",
       "<path fill=\"none\" stroke=\"black\" d=\"M259.5,-49.69C259.5,-41.68 259.5,-32.63 259.5,-25.01\"/>\n",
       "<polygon fill=\"black\" stroke=\"black\" points=\"263,-25.29 259.5,-15.29 256,-25.29 263,-25.29\"/>\n",
       "</g>\n",
       "<!-- ({&#39;new_order&#39;}, {&#39;cell1_operation&#39;}) -->\n",
       "<g id=\"node2\" class=\"node\">\n",
       "<title>({&#39;new_order&#39;}, {&#39;cell1_operation&#39;})</title>\n",
       "<ellipse fill=\"none\" stroke=\"black\" cx=\"259.5\" cy=\"-329.5\" rx=\"21.5\" ry=\"21.5\"/>\n",
       "<text text-anchor=\"middle\" x=\"137\" y=\"-354.8\" font-family=\"Times New Roman,serif\" font-size=\"14.00\">({&#39;new_order&#39;}, {&#39;cell1_operation&#39;})</text>\n",
       "</g>\n",
       "<!-- (cell1_operation, &#39;cell1_operation&#39;) -->\n",
       "<g id=\"node4\" class=\"node\">\n",
       "<title>(cell1_operation, &#39;cell1_operation&#39;)</title>\n",
       "<polygon fill=\"black\" stroke=\"black\" points=\"281,-272 238,-272 238,-258 281,-258 281,-272\"/>\n",
       "<text text-anchor=\"middle\" x=\"141\" y=\"-290.8\" font-family=\"Times New Roman,serif\" font-size=\"14.00\">(cell1_operation, &#39;cell1_operation&#39;)</text>\n",
       "<text text-anchor=\"middle\" x=\"141\" y=\"-275.8\" font-family=\"Times New Roman,serif\" font-size=\"14.00\">1</text>\n",
       "</g>\n",
       "<!-- ({&#39;new_order&#39;}, {&#39;cell1_operation&#39;})&#45;&gt;(cell1_operation, &#39;cell1_operation&#39;) -->\n",
       "<g id=\"edge1\" class=\"edge\">\n",
       "<title>({&#39;new_order&#39;}, {&#39;cell1_operation&#39;})&#45;&gt;(cell1_operation, &#39;cell1_operation&#39;)</title>\n",
       "<path fill=\"none\" stroke=\"black\" d=\"M259.5,-307.69C259.5,-299.68 259.5,-290.63 259.5,-283.01\"/>\n",
       "<polygon fill=\"black\" stroke=\"black\" points=\"263,-283.29 259.5,-273.29 256,-283.29 263,-283.29\"/>\n",
       "</g>\n",
       "<!-- ({&#39;cell1_operation&#39;}, {&#39;cell2_operation&#39;}) -->\n",
       "<g id=\"node3\" class=\"node\">\n",
       "<title>({&#39;cell1_operation&#39;}, {&#39;cell2_operation&#39;})</title>\n",
       "<ellipse fill=\"none\" stroke=\"black\" cx=\"259.5\" cy=\"-200.5\" rx=\"21.5\" ry=\"21.5\"/>\n",
       "<text text-anchor=\"middle\" x=\"124.5\" y=\"-225.8\" font-family=\"Times New Roman,serif\" font-size=\"14.00\">({&#39;cell1_operation&#39;}, {&#39;cell2_operation&#39;})</text>\n",
       "</g>\n",
       "<!-- (cell2_operation, &#39;cell2_operation&#39;) -->\n",
       "<g id=\"node7\" class=\"node\">\n",
       "<title>(cell2_operation, &#39;cell2_operation&#39;)</title>\n",
       "<polygon fill=\"black\" stroke=\"black\" points=\"281,-143 238,-143 238,-129 281,-129 281,-143\"/>\n",
       "<text text-anchor=\"middle\" x=\"141\" y=\"-161.8\" font-family=\"Times New Roman,serif\" font-size=\"14.00\">(cell2_operation, &#39;cell2_operation&#39;)</text>\n",
       "<text text-anchor=\"middle\" x=\"141\" y=\"-146.8\" font-family=\"Times New Roman,serif\" font-size=\"14.00\">1</text>\n",
       "</g>\n",
       "<!-- ({&#39;cell1_operation&#39;}, {&#39;cell2_operation&#39;})&#45;&gt;(cell2_operation, &#39;cell2_operation&#39;) -->\n",
       "<g id=\"edge5\" class=\"edge\">\n",
       "<title>({&#39;cell1_operation&#39;}, {&#39;cell2_operation&#39;})&#45;&gt;(cell2_operation, &#39;cell2_operation&#39;)</title>\n",
       "<path fill=\"none\" stroke=\"black\" d=\"M259.5,-178.69C259.5,-170.68 259.5,-161.63 259.5,-154.01\"/>\n",
       "<polygon fill=\"black\" stroke=\"black\" points=\"263,-154.29 259.5,-144.29 256,-154.29 263,-154.29\"/>\n",
       "</g>\n",
       "<!-- (cell1_operation, &#39;cell1_operation&#39;)&#45;&gt;({&#39;cell1_operation&#39;}, {&#39;cell2_operation&#39;}) -->\n",
       "<g id=\"edge2\" class=\"edge\">\n",
       "<title>(cell1_operation, &#39;cell1_operation&#39;)&#45;&gt;({&#39;cell1_operation&#39;}, {&#39;cell2_operation&#39;})</title>\n",
       "<path fill=\"none\" stroke=\"black\" d=\"M259.5,-257.78C259.5,-251.88 259.5,-242.53 259.5,-233.14\"/>\n",
       "<polygon fill=\"black\" stroke=\"black\" points=\"263,-233.3 259.5,-223.3 256,-233.3 263,-233.3\"/>\n",
       "</g>\n",
       "<!-- (new_order, &#39;new_order&#39;) -->\n",
       "<g id=\"node5\" class=\"node\">\n",
       "<title>(new_order, &#39;new_order&#39;)</title>\n",
       "<polygon fill=\"black\" stroke=\"black\" points=\"281,-401 238,-401 238,-387 281,-387 281,-401\"/>\n",
       "<text text-anchor=\"middle\" x=\"166.5\" y=\"-419.8\" font-family=\"Times New Roman,serif\" font-size=\"14.00\">(new_order, &#39;new_order&#39;)</text>\n",
       "<text text-anchor=\"middle\" x=\"166.5\" y=\"-404.8\" font-family=\"Times New Roman,serif\" font-size=\"14.00\">1</text>\n",
       "</g>\n",
       "<!-- (new_order, &#39;new_order&#39;)&#45;&gt;({&#39;new_order&#39;}, {&#39;cell1_operation&#39;}) -->\n",
       "<g id=\"edge3\" class=\"edge\">\n",
       "<title>(new_order, &#39;new_order&#39;)&#45;&gt;({&#39;new_order&#39;}, {&#39;cell1_operation&#39;})</title>\n",
       "<path fill=\"none\" stroke=\"black\" d=\"M259.5,-386.78C259.5,-380.88 259.5,-371.53 259.5,-362.14\"/>\n",
       "<polygon fill=\"black\" stroke=\"black\" points=\"263,-362.3 259.5,-352.3 256,-362.3 263,-362.3\"/>\n",
       "</g>\n",
       "<!-- (cell2_operation, &#39;cell2_operation&#39;)&#45;&gt;({&#39;cell2_operation&#39;}, {&#39;order_completed&#39;}) -->\n",
       "<g id=\"edge6\" class=\"edge\">\n",
       "<title>(cell2_operation, &#39;cell2_operation&#39;)&#45;&gt;({&#39;cell2_operation&#39;}, {&#39;order_completed&#39;})</title>\n",
       "<path fill=\"none\" stroke=\"black\" d=\"M259.5,-128.78C259.5,-122.88 259.5,-113.53 259.5,-104.14\"/>\n",
       "<polygon fill=\"black\" stroke=\"black\" points=\"263,-104.3 259.5,-94.3 256,-104.3 263,-104.3\"/>\n",
       "</g>\n",
       "</g>\n",
       "</svg>\n"
      ],
      "text/plain": [
       "<graphviz.graphs.Digraph at 0x200535902d0>"
      ]
     },
     "execution_count": 11,
     "metadata": {},
     "output_type": "execute_result"
    }
   ],
   "source": [
    "for arc in net.arcs:\n",
    "    if \"start\" not in str(arc) and \"end\" not in str(arc):\n",
    "        for transition in spn.transitions:\n",
    "            if str(arc.source) == transition.label:\n",
    "                spn.add_output_arc(transition,spn.get_place_by_label(str(arc.target)))\n",
    "            if str(arc.target) == transition.label:\n",
    "                spn.add_input_arc(spn.get_place_by_label(str(arc.source)),transition)\n",
    "\n",
    "draw_spn(spn, show=False)"
   ]
  },
  {
   "cell_type": "code",
   "execution_count": 12,
   "metadata": {},
   "outputs": [],
   "source": [
    "import re\n",
    "\n",
    "for transition in spn.transitions:\n",
    "    transition.label = re.sub(r'[^\\w,]', '',transition.label.split(\",\")[0])"
   ]
  },
  {
   "cell_type": "code",
   "execution_count": 13,
   "metadata": {},
   "outputs": [],
   "source": [
    "for place in spn.places:\n",
    "    place.label = re.sub(r'[^\\w,]', '', place.label)"
   ]
  },
  {
   "cell_type": "code",
   "execution_count": 14,
   "metadata": {},
   "outputs": [
    {
     "data": {
      "image/svg+xml": [
       "<?xml version=\"1.0\" encoding=\"UTF-8\" standalone=\"no\"?>\n",
       "<!DOCTYPE svg PUBLIC \"-//W3C//DTD SVG 1.1//EN\"\n",
       " \"http://www.w3.org/Graphics/SVG/1.1/DTD/svg11.dtd\">\n",
       "<!-- Generated by graphviz version 8.0.3 (20230416.2022)\n",
       " -->\n",
       "<!-- Pages: 1 -->\n",
       "<svg width=\"237pt\" height=\"439pt\"\n",
       " viewBox=\"0.00 0.00 237.00 439.00\" xmlns=\"http://www.w3.org/2000/svg\" xmlns:xlink=\"http://www.w3.org/1999/xlink\">\n",
       "<g id=\"graph0\" class=\"graph\" transform=\"scale(1 1) rotate(0) translate(4 435)\">\n",
       "<polygon fill=\"white\" stroke=\"none\" points=\"-4,4 -4,-435 233,-435 233,4 -4,4\"/>\n",
       "<!-- cell2_operation,order_completed -->\n",
       "<g id=\"node1\" class=\"node\">\n",
       "<title>cell2_operation,order_completed</title>\n",
       "<ellipse fill=\"none\" stroke=\"black\" cx=\"207.5\" cy=\"-71.5\" rx=\"21.5\" ry=\"21.5\"/>\n",
       "<text text-anchor=\"middle\" x=\"93\" y=\"-96.8\" font-family=\"Times New Roman,serif\" font-size=\"14.00\">cell2_operation,order_completed</text>\n",
       "</g>\n",
       "<!-- order_completed -->\n",
       "<g id=\"node6\" class=\"node\">\n",
       "<title>order_completed</title>\n",
       "<polygon fill=\"black\" stroke=\"black\" points=\"229,-14 186,-14 186,0 229,0 229,-14\"/>\n",
       "<text text-anchor=\"middle\" x=\"137.5\" y=\"-32.8\" font-family=\"Times New Roman,serif\" font-size=\"14.00\">order_completed</text>\n",
       "<text text-anchor=\"middle\" x=\"137.5\" y=\"-17.8\" font-family=\"Times New Roman,serif\" font-size=\"14.00\">1</text>\n",
       "</g>\n",
       "<!-- cell2_operation,order_completed&#45;&gt;order_completed -->\n",
       "<g id=\"edge4\" class=\"edge\">\n",
       "<title>cell2_operation,order_completed&#45;&gt;order_completed</title>\n",
       "<path fill=\"none\" stroke=\"black\" d=\"M207.5,-49.69C207.5,-41.68 207.5,-32.63 207.5,-25.01\"/>\n",
       "<polygon fill=\"black\" stroke=\"black\" points=\"211,-25.29 207.5,-15.29 204,-25.29 211,-25.29\"/>\n",
       "</g>\n",
       "<!-- new_order,cell1_operation -->\n",
       "<g id=\"node2\" class=\"node\">\n",
       "<title>new_order,cell1_operation</title>\n",
       "<ellipse fill=\"none\" stroke=\"black\" cx=\"207.5\" cy=\"-329.5\" rx=\"21.5\" ry=\"21.5\"/>\n",
       "<text text-anchor=\"middle\" x=\"111\" y=\"-354.8\" font-family=\"Times New Roman,serif\" font-size=\"14.00\">new_order,cell1_operation</text>\n",
       "</g>\n",
       "<!-- cell1_operation -->\n",
       "<g id=\"node4\" class=\"node\">\n",
       "<title>cell1_operation</title>\n",
       "<polygon fill=\"black\" stroke=\"black\" points=\"229,-272 186,-272 186,-258 229,-258 229,-272\"/>\n",
       "<text text-anchor=\"middle\" x=\"143\" y=\"-290.8\" font-family=\"Times New Roman,serif\" font-size=\"14.00\">cell1_operation</text>\n",
       "<text text-anchor=\"middle\" x=\"143\" y=\"-275.8\" font-family=\"Times New Roman,serif\" font-size=\"14.00\">1</text>\n",
       "</g>\n",
       "<!-- new_order,cell1_operation&#45;&gt;cell1_operation -->\n",
       "<g id=\"edge1\" class=\"edge\">\n",
       "<title>new_order,cell1_operation&#45;&gt;cell1_operation</title>\n",
       "<path fill=\"none\" stroke=\"black\" d=\"M207.5,-307.69C207.5,-299.68 207.5,-290.63 207.5,-283.01\"/>\n",
       "<polygon fill=\"black\" stroke=\"black\" points=\"211,-283.29 207.5,-273.29 204,-283.29 211,-283.29\"/>\n",
       "</g>\n",
       "<!-- cell1_operation,cell2_operation -->\n",
       "<g id=\"node3\" class=\"node\">\n",
       "<title>cell1_operation,cell2_operation</title>\n",
       "<ellipse fill=\"none\" stroke=\"black\" cx=\"207.5\" cy=\"-200.5\" rx=\"21.5\" ry=\"21.5\"/>\n",
       "<text text-anchor=\"middle\" x=\"98.5\" y=\"-225.8\" font-family=\"Times New Roman,serif\" font-size=\"14.00\">cell1_operation,cell2_operation</text>\n",
       "</g>\n",
       "<!-- cell2_operation -->\n",
       "<g id=\"node7\" class=\"node\">\n",
       "<title>cell2_operation</title>\n",
       "<polygon fill=\"black\" stroke=\"black\" points=\"229,-143 186,-143 186,-129 229,-129 229,-143\"/>\n",
       "<text text-anchor=\"middle\" x=\"143\" y=\"-161.8\" font-family=\"Times New Roman,serif\" font-size=\"14.00\">cell2_operation</text>\n",
       "<text text-anchor=\"middle\" x=\"143\" y=\"-146.8\" font-family=\"Times New Roman,serif\" font-size=\"14.00\">1</text>\n",
       "</g>\n",
       "<!-- cell1_operation,cell2_operation&#45;&gt;cell2_operation -->\n",
       "<g id=\"edge5\" class=\"edge\">\n",
       "<title>cell1_operation,cell2_operation&#45;&gt;cell2_operation</title>\n",
       "<path fill=\"none\" stroke=\"black\" d=\"M207.5,-178.69C207.5,-170.68 207.5,-161.63 207.5,-154.01\"/>\n",
       "<polygon fill=\"black\" stroke=\"black\" points=\"211,-154.29 207.5,-144.29 204,-154.29 211,-154.29\"/>\n",
       "</g>\n",
       "<!-- cell1_operation&#45;&gt;cell1_operation,cell2_operation -->\n",
       "<g id=\"edge2\" class=\"edge\">\n",
       "<title>cell1_operation&#45;&gt;cell1_operation,cell2_operation</title>\n",
       "<path fill=\"none\" stroke=\"black\" d=\"M207.5,-257.78C207.5,-251.88 207.5,-242.53 207.5,-233.14\"/>\n",
       "<polygon fill=\"black\" stroke=\"black\" points=\"211,-233.3 207.5,-223.3 204,-233.3 211,-233.3\"/>\n",
       "</g>\n",
       "<!-- new_order -->\n",
       "<g id=\"node5\" class=\"node\">\n",
       "<title>new_order</title>\n",
       "<polygon fill=\"black\" stroke=\"black\" points=\"229,-401 186,-401 186,-387 229,-387 229,-401\"/>\n",
       "<text text-anchor=\"middle\" x=\"155.5\" y=\"-419.8\" font-family=\"Times New Roman,serif\" font-size=\"14.00\">new_order</text>\n",
       "<text text-anchor=\"middle\" x=\"155.5\" y=\"-404.8\" font-family=\"Times New Roman,serif\" font-size=\"14.00\">1</text>\n",
       "</g>\n",
       "<!-- new_order&#45;&gt;new_order,cell1_operation -->\n",
       "<g id=\"edge3\" class=\"edge\">\n",
       "<title>new_order&#45;&gt;new_order,cell1_operation</title>\n",
       "<path fill=\"none\" stroke=\"black\" d=\"M207.5,-386.78C207.5,-380.88 207.5,-371.53 207.5,-362.14\"/>\n",
       "<polygon fill=\"black\" stroke=\"black\" points=\"211,-362.3 207.5,-352.3 204,-362.3 211,-362.3\"/>\n",
       "</g>\n",
       "<!-- cell2_operation&#45;&gt;cell2_operation,order_completed -->\n",
       "<g id=\"edge6\" class=\"edge\">\n",
       "<title>cell2_operation&#45;&gt;cell2_operation,order_completed</title>\n",
       "<path fill=\"none\" stroke=\"black\" d=\"M207.5,-128.78C207.5,-122.88 207.5,-113.53 207.5,-104.14\"/>\n",
       "<polygon fill=\"black\" stroke=\"black\" points=\"211,-104.3 207.5,-94.3 204,-104.3 211,-104.3\"/>\n",
       "</g>\n",
       "</g>\n",
       "</svg>\n"
      ],
      "text/plain": [
       "<graphviz.graphs.Digraph at 0x20053592ad0>"
      ]
     },
     "execution_count": 14,
     "metadata": {},
     "output_type": "execute_result"
    }
   ],
   "source": [
    "draw_spn(spn, show=False)"
   ]
  },
  {
   "cell_type": "code",
   "execution_count": 135,
   "metadata": {},
   "outputs": [
    {
     "name": "stdout",
     "output_type": "stream",
     "text": [
      "[<spn_simulator.components.spn.InputArc object at 0x0000020053592FD0>]\n",
      "[]\n",
      "[<spn_simulator.components.spn.InputArc object at 0x00000200535908D0>]\n",
      "[<spn_simulator.components.spn.InputArc object at 0x00000200535905D0>]\n"
     ]
    }
   ],
   "source": [
    "for transition in spn.transitions:\n",
    "    transition:Transition\n",
    "    if transition.input_arcs == []:\n",
    "        transition.t_type = \"T\"\n",
    "        transition.distribution \n",
    "    "
   ]
  },
  {
   "attachments": {},
   "cell_type": "markdown",
   "metadata": {},
   "source": [
    "Estimation of Arrival Time Dist"
   ]
  },
  {
   "cell_type": "code",
   "execution_count": 43,
   "metadata": {},
   "outputs": [],
   "source": [
    "import matplotlib.pyplot as plt\n",
    "import numpy as np\n",
    "import seaborn as sns\n",
    "import scipy.stats as ss\n",
    "from fitter import Fitter, get_common_distributions, get_distributions"
   ]
  },
  {
   "cell_type": "code",
   "execution_count": 38,
   "metadata": {},
   "outputs": [
    {
     "data": {
      "text/html": [
       "<div>\n",
       "<style scoped>\n",
       "    .dataframe tbody tr th:only-of-type {\n",
       "        vertical-align: middle;\n",
       "    }\n",
       "\n",
       "    .dataframe tbody tr th {\n",
       "        vertical-align: top;\n",
       "    }\n",
       "\n",
       "    .dataframe thead th {\n",
       "        text-align: right;\n",
       "    }\n",
       "</style>\n",
       "<table border=\"1\" class=\"dataframe\">\n",
       "  <thead>\n",
       "    <tr style=\"text-align: right;\">\n",
       "      <th></th>\n",
       "      <th>timestamp</th>\n",
       "      <th>order_id</th>\n",
       "      <th>resource</th>\n",
       "      <th>event</th>\n",
       "      <th>start_timestamp</th>\n",
       "    </tr>\n",
       "  </thead>\n",
       "  <tbody>\n",
       "    <tr>\n",
       "      <th>0</th>\n",
       "      <td>2023-04-18 00:00:00+02:00</td>\n",
       "      <td>260</td>\n",
       "      <td>MES</td>\n",
       "      <td>new_order</td>\n",
       "      <td>2023-04-18 00:00:00+02:00</td>\n",
       "    </tr>\n",
       "    <tr>\n",
       "      <th>1</th>\n",
       "      <td>2023-04-18 00:00:00+02:00</td>\n",
       "      <td>260</td>\n",
       "      <td>cell1</td>\n",
       "      <td>cell1_operation</td>\n",
       "      <td>2023-04-18 00:00:00+02:00</td>\n",
       "    </tr>\n",
       "    <tr>\n",
       "      <th>2</th>\n",
       "      <td>2023-04-18 00:00:01+02:00</td>\n",
       "      <td>260</td>\n",
       "      <td>cell2</td>\n",
       "      <td>cell2_operation</td>\n",
       "      <td>2023-04-18 00:00:01+02:00</td>\n",
       "    </tr>\n",
       "    <tr>\n",
       "      <th>3</th>\n",
       "      <td>2023-04-18 00:00:01+02:00</td>\n",
       "      <td>261</td>\n",
       "      <td>MES</td>\n",
       "      <td>new_order</td>\n",
       "      <td>2023-04-18 00:00:01+02:00</td>\n",
       "    </tr>\n",
       "    <tr>\n",
       "      <th>4</th>\n",
       "      <td>2023-04-18 00:00:01+02:00</td>\n",
       "      <td>261</td>\n",
       "      <td>cell1</td>\n",
       "      <td>cell1_operation</td>\n",
       "      <td>2023-04-18 00:00:01+02:00</td>\n",
       "    </tr>\n",
       "  </tbody>\n",
       "</table>\n",
       "</div>"
      ],
      "text/plain": [
       "                  timestamp order_id resource            event           start_timestamp\n",
       "0 2023-04-18 00:00:00+02:00      260      MES        new_order 2023-04-18 00:00:00+02:00\n",
       "1 2023-04-18 00:00:00+02:00      260    cell1  cell1_operation 2023-04-18 00:00:00+02:00\n",
       "2 2023-04-18 00:00:01+02:00      260    cell2  cell2_operation 2023-04-18 00:00:01+02:00\n",
       "3 2023-04-18 00:00:01+02:00      261      MES        new_order 2023-04-18 00:00:01+02:00\n",
       "4 2023-04-18 00:00:01+02:00      261    cell1  cell1_operation 2023-04-18 00:00:01+02:00"
      ]
     },
     "execution_count": 38,
     "metadata": {},
     "output_type": "execute_result"
    }
   ],
   "source": [
    "event_log.head()"
   ]
  },
  {
   "cell_type": "code",
   "execution_count": 39,
   "metadata": {},
   "outputs": [],
   "source": [
    "arrival_times = list(event_log[event_log[\"event\"]==\"new_order\"][\"timestamp\"])\n",
    "arrival_times_td =[(x-y).seconds for x, y in zip(arrival_times[1:], arrival_times)]"
   ]
  },
  {
   "cell_type": "code",
   "execution_count": 40,
   "metadata": {},
   "outputs": [
    {
     "data": {
      "text/plain": [
       "(array([358., 392., 153.,   0.,  57.,  15.,   0.,   9.,   1.,   1.]),\n",
       " array([0. , 0.7, 1.4, 2.1, 2.8, 3.5, 4.2, 4.9, 5.6, 6.3, 7. ]),\n",
       " <BarContainer object of 10 artists>)"
      ]
     },
     "execution_count": 40,
     "metadata": {},
     "output_type": "execute_result"
    },
    {
     "data": {
      "image/png": "[encoded data removed]",
      "text/plain": [
       "<Figure size 640x480 with 1 Axes>"
      ]
     },
     "metadata": {},
     "output_type": "display_data"
    }
   ],
   "source": [
    "plt.hist(arrival_times_td)"
   ]
  },
  {
   "cell_type": "code",
   "execution_count": 150,
   "metadata": {},
   "outputs": [
    {
     "name": "stderr",
     "output_type": "stream",
     "text": [
      "Fitting 5 distributions: 100%|██████████| 5/5 [00:00<00:00,  7.75it/s]\n"
     ]
    }
   ],
   "source": [
    "f = Fitter(arrival_times_td,\n",
    "           distributions=[\"expon\",\"lognorm\",\"norm\",\"weibull_min\",\"gamma\"])\n",
    "f.fit(progress=False)\n",
    "f.summary()"
   ]
  },
  {
   "cell_type": "code",
   "execution_count": 68,
   "metadata": {},
   "outputs": [
    {
     "data": {
      "text/plain": [
       "<matplotlib.legend.Legend at 0x200628bf110>"
      ]
     },
     "execution_count": 68,
     "metadata": {},
     "output_type": "execute_result"
    },
    {
     "data": {
      "image/png": "[encoded data removed]",
      "text/plain": [
       "<Figure size 640x480 with 1 Axes>"
      ]
     },
     "metadata": {},
     "output_type": "display_data"
    }
   ],
   "source": [
    "x = np.linspace(-0.1,10,20)\n",
    "y_pdf = ss.gamma.pdf(x, 0.5131145929384269, -3.594519388615156e-27, 0.9118687392734223) # the normal pdf\n",
    "y_cdf = ss.gamma.cdf(x, 0.5131145929384269, -3.594519388615156e-27, 0.9118687392734223) \n",
    "\n",
    "\n",
    "plt.plot(x, y_pdf, label='pdf')\n",
    "plt.plot(x, y_cdf, label='cdf')\n",
    "plt.legend()"
   ]
  },
  {
   "cell_type": "code",
   "execution_count": 136,
   "metadata": {},
   "outputs": [
    {
     "data": {
      "text/plain": [
       "{'gamma': {'a': 0.5131145929384269,\n",
       "  'loc': -3.594519388615156e-27,\n",
       "  'scale': 0.9118687392734223}}"
      ]
     },
     "execution_count": 136,
     "metadata": {},
     "output_type": "execute_result"
    }
   ],
   "source": [
    "f.get_best(method = 'sumsquare_error')"
   ]
  },
  {
   "cell_type": "code",
   "execution_count": 139,
   "metadata": {},
   "outputs": [
    {
     "data": {
      "text/plain": [
       "{'gamma': {'a': 0.5131145929384269,\n",
       "  'loc': -3.594519388615156e-27,\n",
       "  'scale': 0.9118687392734223}}"
      ]
     },
     "execution_count": 139,
     "metadata": {},
     "output_type": "execute_result"
    }
   ],
   "source": []
  },
  {
   "cell_type": "code",
   "execution_count": 176,
   "metadata": {},
   "outputs": [
    {
     "data": {
      "text/plain": [
       "{'expon': (0.0, 1.0010141987829615),\n",
       " 'norm': (1.0010141987829615, 1.0460972508405921),\n",
       " 'gamma': (0.5131145929384269, -3.594519388615156e-27, 0.9118687392734223),\n",
       " 'weibull_min': (0.753203385749286,\n",
       "  -7.562656774758199e-30,\n",
       "  1.3486139274934752),\n",
       " 'lognorm': (7.870213716005244, -6.099264249801905e-23, 0.029835951299317306)}"
      ]
     },
     "execution_count": 176,
     "metadata": {},
     "output_type": "execute_result"
    }
   ],
   "source": [
    "f.fitted_param"
   ]
  },
  {
   "cell_type": "code",
   "execution_count": 92,
   "metadata": {},
   "outputs": [],
   "source": [
    "best_dist = f.get_best(method = 'sumsquare_error')"
   ]
  },
  {
   "cell_type": "code",
   "execution_count": 96,
   "metadata": {},
   "outputs": [],
   "source": [
    "import scipy.stats as sp"
   ]
  },
  {
   "cell_type": "code",
   "execution_count": 126,
   "metadata": {},
   "outputs": [
    {
     "data": {
      "text/plain": [
       "0.7004304386865837"
      ]
     },
     "execution_count": 126,
     "metadata": {},
     "output_type": "execute_result"
    }
   ],
   "source": [
    "dist = ss.gamma(0.5131145929384269, -3.594519388615156e-27, 0.9118687392734223)\n",
    "dist.rvs()"
   ]
  },
  {
   "cell_type": "code",
   "execution_count": 22,
   "metadata": {},
   "outputs": [],
   "source": [
    "arrival_transitions = spn.get_arrival_transitions()\n",
    "\n",
    "transition:Transition\n",
    "for transition in arrival_transitions:\n",
    "    transition.t_type = \"T\"\n",
    "    transition.distribution = list(best_dist)[0]\n",
    "    transition.scipy_params = f.fitted_param[list(best_dist)[0]]\n",
    "\n",
    "\n",
    "    "
   ]
  }
 ],
 "metadata": {
  "kernelspec": {
   "display_name": "Python 3",
   "language": "python",
   "name": "python3"
  },
  "language_info": {
   "codemirror_mode": {
    "name": "ipython",
    "version": 3
   },
   "file_extension": ".py",
   "mimetype": "text/x-python",
   "name": "python",
   "nbconvert_exporter": "python",
   "pygments_lexer": "ipython3",
   "version": "3.11.2"
  },
  "orig_nbformat": 4,
  "vscode": {
   "interpreter": {
    "hash": "c795d63dc8cfb5de7bcd07d29b5ba58277844ae54d77b796ffde21eff2f01dd2"
   }
  }
 },
 "nbformat": 4,
 "nbformat_minor": 2
}
